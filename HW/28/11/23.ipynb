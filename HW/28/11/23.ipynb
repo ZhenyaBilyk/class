{
  "nbformat": 4,
  "nbformat_minor": 0,
  "metadata": {
    "colab": {
      "provenance": [],
      "authorship_tag": "ABX9TyO/r7ohovAGwVenIxkhZlHZ",
      "include_colab_link": true
    },
    "kernelspec": {
      "name": "python3",
      "display_name": "Python 3"
    },
    "language_info": {
      "name": "python"
    }
  },
  "cells": [
    {
      "cell_type": "markdown",
      "metadata": {
        "id": "view-in-github",
        "colab_type": "text"
      },
      "source": [
        "<a href=\"https://colab.research.google.com/github/ZhenyaBilyk/class/blob/main/HW/28/11/23.ipynb\" target=\"_parent\"><img src=\"https://colab.research.google.com/assets/colab-badge.svg\" alt=\"Open In Colab\"/></a>"
      ]
    },
    {
      "cell_type": "code",
      "execution_count": null,
      "metadata": {
        "id": "_5BlwK4kaIiG"
      },
      "outputs": [],
      "source": [
        "class Shirt:\n",
        "\n",
        " def __init__ ( self, madefrom, color, size):\n",
        "   self.madefrom=cotton\n",
        "   self.color=red\n",
        "   self.size=M"
      ]
    }
  ]
}